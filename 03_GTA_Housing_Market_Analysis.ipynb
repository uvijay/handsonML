{
 "cells": [
  {
   "cell_type": "markdown",
   "metadata": {},
   "source": [
    "<h1> CREA - Ontario Housing Market Analysis </h1>"
   ]
  },
  {
   "cell_type": "code",
   "execution_count": 89,
   "metadata": {},
   "outputs": [],
   "source": [
    "import warnings\n",
    "warnings.filterwarnings('ignore')\n",
    "import pandas as pd\n",
    "import numpy as np\n",
    "import pandas as pd\n",
    "import matplotlib.pyplot as plt\n",
    "import urllib.request\n",
    "import time\n",
    "import bs4 as bs\n",
    "import requests"
   ]
  },
  {
   "cell_type": "markdown",
   "metadata": {},
   "source": [
    "<h3> Data Scraping - Obtaining data </h3>"
   ]
  },
  {
   "cell_type": "markdown",
   "metadata": {},
   "source": [
    "Obtaining data from Zoocasa website - \n",
    "\n",
    "Steps involved : \n",
    "  <ol>\n",
    "   <li>User login to Zoocasa website using POST method </li>\n",
    "   <li>Place a search GET request to the Zoocasa API for Ontario sold listings </li>\n",
    "   <li>Parse the json response and create the dataset  </li>\n",
    "  </ol>"
   ]
  },
  {
   "cell_type": "code",
   "execution_count": 104,
   "metadata": {},
   "outputs": [],
   "source": [
    "URL = 'https://www.zoocasa.com/'\n",
    "LOGIN_URL = 'services/api/v3/users/login'\n",
    "USER_AGENT = 'Mozilla/5.0 (Windows NT 10.0; Win64; x64) AppleWebKit/537.36 (KHTML, like Gecko) Chrome/98.0.4758.102 Safari/537.36'"
   ]
  },
  {
   "cell_type": "code",
   "execution_count": 105,
   "metadata": {},
   "outputs": [
    {
     "data": {
      "text/plain": [
       "{'User-Agent': 'Mozilla/5.0 (Windows NT 10.0; Win64; x64) AppleWebKit/537.36 (KHTML, like Gecko) Chrome/98.0.4758.102 Safari/537.36',\n",
       " 'origin': 'https://www.zoocasa.com/',\n",
       " 'referer': 'https://www.zoocasa.com/services/api/v3/users/login'}"
      ]
     },
     "execution_count": 105,
     "metadata": {},
     "output_type": "execute_result"
    }
   ],
   "source": [
    "HEADERS = {'User-Agent': USER_AGENT, 'origin': URL, 'referer': URL + LOGIN_URL}\n",
    "HEADERS"
   ]
  },
  {
   "cell_type": "code",
   "execution_count": 106,
   "metadata": {},
   "outputs": [
    {
     "data": {
      "text/plain": [
       "200"
      ]
     },
     "execution_count": 106,
     "metadata": {},
     "output_type": "execute_result"
    }
   ],
   "source": [
    "s = requests.session()\n",
    "login_payload = {\n",
    "        'email': 'vs.usha89@gmail.com',\n",
    "        'password':'Rahman@2020#'\n",
    "        }\n",
    "login_req = s.post(URL + LOGIN_URL, headers=HEADERS, data=login_payload, allow_redirects=True)\n",
    "login_req.status_code"
   ]
  },
  {
   "cell_type": "code",
   "execution_count": 159,
   "metadata": {},
   "outputs": [],
   "source": [
    "SOLD_URL = 'services/api/v3/listings?sort=-date&filter%5Brental%5D=false&filter%5Bstatus%5D=not-available-sold&filter%5Bslug%5D=ontario&page%5Bnumber%5D=1'\n",
    "\n",
    "from bs4 import BeautifulSoup\n",
    "import json \n",
    "\n",
    "page = requests.get(URL + SOLD_URL)\n",
    "scraped_json_txt = BeautifulSoup(page.text, \"html.parser\")"
   ]
  },
  {
   "cell_type": "code",
   "execution_count": 160,
   "metadata": {},
   "outputs": [],
   "source": [
    "import re\n",
    "import json\n",
    "import requests\n",
    "\n",
    "txt = re.findall(r'\\\"(data)\\\":\\[(.*)\\\"(meta)\\\"', scraped_json_txt.text)[0]\n",
    "# parsed_json = json.loads(txt[1])\n",
    "# txt[1]\n"
   ]
  }
 ],
 "metadata": {
  "interpreter": {
   "hash": "31f2aee4e71d21fbe5cf8b01ff0e069b9275f58929596ceb00d14d90e3e16cd6"
  },
  "kernelspec": {
   "display_name": "Python 3.8.10 64-bit",
   "language": "python",
   "name": "python3"
  },
  "language_info": {
   "codemirror_mode": {
    "name": "ipython",
    "version": 3
   },
   "file_extension": ".py",
   "mimetype": "text/x-python",
   "name": "python",
   "nbconvert_exporter": "python",
   "pygments_lexer": "ipython3",
   "version": "3.8.10"
  },
  "orig_nbformat": 4
 },
 "nbformat": 4,
 "nbformat_minor": 2
}
